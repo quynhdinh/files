{
 "cells": [
  {
   "cell_type": "code",
   "execution_count": 6,
   "id": "1fe3c380",
   "metadata": {},
   "outputs": [],
   "source": [
    "import logging\n",
    "import os\n",
    "import json"
   ]
  },
  {
   "cell_type": "code",
   "execution_count": 51,
   "id": "413ba707",
   "metadata": {},
   "outputs": [],
   "source": [
    "fn = os.environ.get(\"TEST_DATA_FILE\", \"./tmp/event-2022-11.json\")\n",
    "f = open(fn)\n",
    "eventss = []\n",
    "# print(f)\n",
    "for line in f:\n",
    "    d = json.loads(line)\n",
    "#     print(type(d))\n",
    "#     d.pop('profileId', None)\n",
    "#     dd = d['_source']\n",
    "#     del dd['profileId']\n",
    "#     print(dd)\n",
    "#     print(d)\n",
    "#     break\n",
    "    # del d['systemProperties']\n",
    "    eventss.append(d)\n",
    "cnt = len(eventss)\n",
    "i = 0\n",
    "logging.info(\"total event %d\", cnt)\n"
   ]
  },
  {
   "cell_type": "code",
   "execution_count": 53,
   "id": "390eca2f",
   "metadata": {},
   "outputs": [],
   "source": [
    "fn = os.environ.get(\"TEST_DATA_FILE\", \"./tmp/event-2022-11.json\")\n",
    "f = open(fn)\n",
    "eventss = []\n",
    "# print(f)\n",
    "for line in f:\n",
    "    d = json.loads(line)\n",
    "    # del d['profileId']\n",
    "    # del d['systemProperties']\n",
    "    if '_source' in d and 'profileId' in d['_source']:\n",
    "        del d['_source']['profileId']\n",
    "    if '_source' in d and 'systemProperties' in d['_source']:\n",
    "        del d['_source']['systemProperties']\n",
    "    eventss.append(d)\n",
    "cnt = len(eventss)\n",
    "i = 0\n",
    "logging.info(\"total event %d\", cnt)"
   ]
  },
  {
   "cell_type": "code",
   "execution_count": 54,
   "id": "7cbf718d",
   "metadata": {},
   "outputs": [
    {
     "name": "stdout",
     "output_type": "stream",
     "text": [
      "244076\n"
     ]
    }
   ],
   "source": [
    "print(len(eventss))"
   ]
  },
  {
   "cell_type": "code",
   "execution_count": 56,
   "id": "964292c4",
   "metadata": {},
   "outputs": [],
   "source": [
    "del eventss[0]['_source']['profileId']"
   ]
  },
  {
   "cell_type": "code",
   "execution_count": 58,
   "id": "60a20011",
   "metadata": {},
   "outputs": [
    {
     "data": {
      "text/plain": [
       "{'_index': 'context-event-date-2022-11',\n",
       " '_type': '_doc',\n",
       " '_id': '2LRPTy80D8fA8G17jdPyTqSLPZH',\n",
       " '_score': 1,\n",
       " '_source': {'itemId': '2LRPTy80D8fA8G17jdPyTqSLPZH',\n",
       "  'itemType': 'event',\n",
       "  'scope': 'systemscope',\n",
       "  'eventType': 'sessionCreated',\n",
       "  'sessionId': 'cfbea44b-616d-4de3-9e0a-abd398b1cc45',\n",
       "  'timeStamp': '2022-11-23T00:55:06Z',\n",
       "  'sendAt': '2023-02-08T04:35:33Z',\n",
       "  'properties': {},\n",
       "  'source': {'itemId': 'OnCustomer.updateProfile.637ba2bd1b2ec1004689eb0d',\n",
       "   'itemType': 'event',\n",
       "   'scope': 'JS-2LAlZDzhvRziXRnHLoB2FNP4jMu',\n",
       "   'eventType': 'updateProfile',\n",
       "   'sessionId': None,\n",
       "   'profileId': None,\n",
       "   'timeStamp': '2022-11-23T00:55:06Z',\n",
       "   'sendAt': None,\n",
       "   'properties': {},\n",
       "   'systemProperties': None,\n",
       "   'source': {'itemId': '_',\n",
       "    'itemType': '_',\n",
       "    'scope': 'JS-2LAlZDzhvRziXRnHLoB2FNP4jMu',\n",
       "    'properties': {},\n",
       "    'createdAt': None,\n",
       "    'updatedAt': None,\n",
       "    'collectionIds': None},\n",
       "   'target': {'itemId': '_',\n",
       "    'itemType': 'analyticsUser',\n",
       "    'scope': 'JS-2LAlZDzhvRziXRnHLoB2FNP4jMu',\n",
       "    'properties': {'crm_user_id': '637ba2bd1b2ec1004689eb0d',\n",
       "     'first_name': 'Vân',\n",
       "     'last_name': 'Trần Thanh',\n",
       "     'full_name': 'Trần Thanh Vân',\n",
       "     'total_sessions': 0,\n",
       "     'last_seen': '2022-11-23T00:55:05Z',\n",
       "     'total_conversation_number': 0,\n",
       "     'ip_address': '118.68.218.45'},\n",
       "    'createdAt': None,\n",
       "    'updatedAt': None,\n",
       "    'collectionIds': None},\n",
       "   'targets': None},\n",
       "  'target': None,\n",
       "  'targets': None}}"
      ]
     },
     "execution_count": 58,
     "metadata": {},
     "output_type": "execute_result"
    }
   ],
   "source": [
    "eventss[0]"
   ]
  },
  {
   "cell_type": "code",
   "execution_count": 9,
   "id": "36cdc7ad",
   "metadata": {},
   "outputs": [
    {
     "data": {
      "text/plain": [
       "'http://localhost:8181'"
      ]
     },
     "execution_count": 9,
     "metadata": {},
     "output_type": "execute_result"
    }
   ],
   "source": [
    "import requests\n",
    "import json\n",
    "from requests.auth import HTTPBasicAuth\n",
    "\n",
    "profiles = {\n",
    "    'local': {\n",
    "        'port': 8181\n",
    "    },\n",
    "    'dev': {\n",
    "        'port': 18181,\n",
    "    },\n",
    "    'live': {\n",
    "        'port': 28181,\n",
    "    },\n",
    "    'cani': {\n",
    "        'port': 38181,\n",
    "    },\n",
    "    'ehrb': {\n",
    "        'port': 48181,\n",
    "    },\n",
    "    'tst1': {\n",
    "        'port': 48181,\n",
    "    }\n",
    "}\n",
    "profile = 'local'\n",
    "cfg = profiles[profile]\n",
    "cfg\n",
    "\n",
    "base_url = f\"http://localhost:{cfg['port']}\"\n",
    "base_url"
   ]
  },
  {
   "cell_type": "code",
   "execution_count": 14,
   "id": "68712bcb",
   "metadata": {},
   "outputs": [
    {
     "name": "stdout",
     "output_type": "stream",
     "text": [
      "<Response [200]>\n"
     ]
    }
   ],
   "source": [
    "# basic = HTTPBasicAuth('prime', 'karaf')\n",
    "resp = requests.get(base_url + '/cxs/rules')\n",
    "print(resp)"
   ]
  },
  {
   "cell_type": "code",
   "execution_count": 27,
   "id": "ae7a20fe",
   "metadata": {},
   "outputs": [
    {
     "name": "stdout",
     "output_type": "stream",
     "text": [
      "{\n",
      "    \"events\": [\n",
      "        {\n",
      "            \"_index\": \"context-event-date-2022-11\",\n",
      "            \"_type\": \"_doc\",\n",
      "            \"_id\": \"OnCustomer.updateProfile.637d6a785dd08f002aebd84f\",\n",
      "            \"_score\": 1,\n",
      "            \"_source\": {\n",
      "                \"itemId\": \"OnCustomer.updateProfile.637d6a785dd08f002aebd84f\",\n",
      "                \"itemType\": \"event\",\n",
      "                \"scope\": \"JS-2LAlZDzhvRziXRnHLoB2FNP4jMu\",\n",
      "                \"eventType\": \"updateProfile\",\n",
      "                \"sessionId\": \"569331b2-92ab-4f79-b80e-55167b39ecee\",\n",
      "                \"profileId\": \"2LRPU7La3RL0iWTF63TpZLPr2R6\",\n",
      "                \"timeStamp\": \"2022-11-23T01:05:04Z\",\n",
      "                \"sendAt\": \"2023-02-08T04:35:34Z\",\n",
      "                \"properties\": {},\n",
      "                \"systemProperties\": {\n",
      "                    \"contextId\": \"2LRPUC0FgkgZPGhjnJCakiy4v9K\"\n",
      "                },\n",
      "                \"source\": {\n",
      "                    \"itemId\": \"_\",\n",
      "                    \"itemType\": \"_\",\n",
      "                    \"scope\": \"JS-2LAlZDzhvRziXRnHLoB2FNP4jMu\",\n",
      "                    \"properties\": {},\n",
      "                    \"createdAt\": null,\n",
      "                    \"updatedAt\": null,\n",
      "                    \"collectionIds\": null\n",
      "                },\n",
      "                \"target\": {\n",
      "                    \"itemId\": \"_\",\n",
      "                    \"itemType\": \"analyticsUser\",\n",
      "                    \"scope\": \"JS-2LAlZDzhvRziXRnHLoB2FNP4jMu\",\n",
      "                    \"properties\": {\n",
      "                        \"crm_user_id\": \"637d6a785dd08f002aebd84f\",\n",
      "                        \"first_name\": \"Nguyen\",\n",
      "                        \"last_name\": \"Khanh\",\n",
      "                        \"full_name\": \"Khanh Nguyen\",\n",
      "                        \"total_sessions\": 0,\n",
      "                        \"last_seen\": \"2022-11-23T01:05:03Z\",\n",
      "                        \"total_conversation_number\": 0,\n",
      "                        \"ip_address\": \"118.68.218.45\"\n",
      "                    },\n",
      "                    \"createdAt\": null,\n",
      "                    \"updatedAt\": null,\n",
      "                    \"collectionIds\": null\n",
      "                },\n",
      "                \"targets\": null\n",
      "            }\n",
      "        }\n",
      "    ]\n",
      "}\n",
      "{'_index': 'context-event-date-2022-11', '_type': '_doc', '_id': 'OnCustomer.updateProfile.637d6a785dd08f002aebd84f', '_score': 1, '_source': {'itemId': 'OnCustomer.updateProfile.637d6a785dd08f002aebd84f', 'itemType': 'event', 'scope': 'JS-2LAlZDzhvRziXRnHLoB2FNP4jMu', 'eventType': 'updateProfile', 'sessionId': '569331b2-92ab-4f79-b80e-55167b39ecee', 'profileId': '2LRPU7La3RL0iWTF63TpZLPr2R6', 'timeStamp': '2022-11-23T01:05:04Z', 'sendAt': '2023-02-08T04:35:34Z', 'properties': {}, 'systemProperties': {'contextId': '2LRPUC0FgkgZPGhjnJCakiy4v9K'}, 'source': {'itemId': '_', 'itemType': '_', 'scope': 'JS-2LAlZDzhvRziXRnHLoB2FNP4jMu', 'properties': {}, 'createdAt': None, 'updatedAt': None, 'collectionIds': None}, 'target': {'itemId': '_', 'itemType': 'analyticsUser', 'scope': 'JS-2LAlZDzhvRziXRnHLoB2FNP4jMu', 'properties': {'crm_user_id': '637d6a785dd08f002aebd84f', 'first_name': 'Nguyen', 'last_name': 'Khanh', 'full_name': 'Khanh Nguyen', 'total_sessions': 0, 'last_seen': '2022-11-23T01:05:03Z', 'total_conversation_number': 0, 'ip_address': '118.68.218.45'}, 'createdAt': None, 'updatedAt': None, 'collectionIds': None}, 'targets': None}}\n",
      "200\n"
     ]
    }
   ],
   "source": [
    "for i in range(1):\n",
    "    ev = eventss[1]\n",
    "#     evv = {\n",
    "#         \"persistence\": True\n",
    "#     }\n",
    "#     del ev['_source']['profileId']\n",
    "#     del ev['_source']['persistence']\n",
    "    data = {\"events\": [ev]}\n",
    "#     print(data)\n",
    "#     print(base_url + '/eventcollector')\n",
    "#     json_object = ev #json.dumps(data)\n",
    "    print(json.dumps(data, indent = 4) )\n",
    "    print(json_object)\n",
    "    resp = requests.post(base_url + '/eventcollector', json = data)\n",
    "    print(resp.status_code)"
   ]
  },
  {
   "cell_type": "code",
   "execution_count": 50,
   "id": "c65df7aa",
   "metadata": {},
   "outputs": [
    {
     "name": "stdout",
     "output_type": "stream",
     "text": [
      "{\"events\": [{\"_index\": \"context-event-date-2022-11\", \"_type\": \"_doc\", \"_id\": \"OnCustomer.updateProfile.637d6a785dd08f002aebd84f\", \"_score\": 1, \"_source\": {\"itemId\": \"OnCustomer.updateProfile.637d6a785dd08f002aebd84f\", \"itemType\": \"event\", \"scope\": \"JS-2LAlZDzhvRziXRnHLoB2FNP4jMu\", \"eventType\": \"updateProfile\", \"sessionId\": \"569331b2-92ab-4f79-b80e-55167b39ecee\", \"profileId\": \"2LRPU7La3RL0iWTF63TpZLPr2R6\", \"timeStamp\": \"2022-11-23T01:05:04Z\", \"sendAt\": \"2023-02-08T04:35:34Z\", \"properties\": {}, \"systemProperties\": {\"contextId\": \"2LRPUC0FgkgZPGhjnJCakiy4v9K\"}, \"source\": {\"itemId\": \"_\", \"itemType\": \"_\", \"scope\": \"JS-2LAlZDzhvRziXRnHLoB2FNP4jMu\", \"properties\": {}, \"createdAt\": null, \"updatedAt\": null, \"collectionIds\": null}, \"target\": {\"itemId\": \"_\", \"itemType\": \"analyticsUser\", \"scope\": \"JS-2LAlZDzhvRziXRnHLoB2FNP4jMu\", \"properties\": {\"crm_user_id\": \"637d6a785dd08f002aebd84f\", \"first_name\": \"Nguyen\", \"last_name\": \"Khanh\", \"full_name\": \"Khanh Nguyen\", \"total_sessions\": 0, \"last_seen\": \"2022-11-23T01:05:03Z\", \"total_conversation_number\": 0, \"ip_address\": \"118.68.218.45\"}, \"createdAt\": null, \"updatedAt\": null, \"collectionIds\": null}, \"targets\": null}}]}\n",
      "{'processedEvents': 1, 'profileId': '2QayReE6d7dTfiHFz9qBwIhLqBx', 'error': None}\n"
     ]
    }
   ],
   "source": [
    "data = {\"events\": [eventss[1]]}\n",
    "print(json.dumps(data))\n",
    "resp = requests.post('http://localhost:8181/eventcollector', json = data)\n",
    "print(resp.json())"
   ]
  },
  {
   "cell_type": "code",
   "execution_count": 40,
   "id": "fbe14822",
   "metadata": {},
   "outputs": [
    {
     "ename": "NameError",
     "evalue": "name 'x' is not defined",
     "output_type": "error",
     "traceback": [
      "\u001b[0;31m---------------------------------------------------------------------------\u001b[0m",
      "\u001b[0;31mNameError\u001b[0m                                 Traceback (most recent call last)",
      "\u001b[0;32m/tmp/ipykernel_29269/2786949274.py\u001b[0m in \u001b[0;36m<module>\u001b[0;34m\u001b[0m\n\u001b[0;32m----> 1\u001b[0;31m \u001b[0;32mdel\u001b[0m \u001b[0mx\u001b[0m\u001b[0;34m[\u001b[0m\u001b[0;34m'_source'\u001b[0m\u001b[0;34m]\u001b[0m\u001b[0;34m\u001b[0m\u001b[0;34m\u001b[0m\u001b[0m\n\u001b[0m",
      "\u001b[0;31mNameError\u001b[0m: name 'x' is not defined"
     ]
    }
   ],
   "source": [
    "del x['_source']"
   ]
  },
  {
   "cell_type": "code",
   "execution_count": 40,
   "id": "4a27ceda",
   "metadata": {},
   "outputs": [
    {
     "data": {
      "text/plain": [
       "{'_index': 'context-event-date-2022-11',\n",
       " '_type': '_doc',\n",
       " '_id': '2LRPTy80D8fA8G17jdPyTqSLPZH',\n",
       " '_score': 1}"
      ]
     },
     "execution_count": 40,
     "metadata": {},
     "output_type": "execute_result"
    }
   ],
   "source": [
    "x"
   ]
  },
  {
   "cell_type": "code",
   "execution_count": 43,
   "id": "7208695f",
   "metadata": {},
   "outputs": [],
   "source": [
    "xx = eventss[1]"
   ]
  },
  {
   "cell_type": "code",
   "execution_count": 48,
   "id": "51c86768",
   "metadata": {},
   "outputs": [
    {
     "ename": "KeyError",
     "evalue": "'systemProperties'",
     "output_type": "error",
     "traceback": [
      "\u001b[0;31m---------------------------------------------------------------------------\u001b[0m",
      "\u001b[0;31mKeyError\u001b[0m                                  Traceback (most recent call last)",
      "\u001b[0;32m/tmp/ipykernel_23310/3021738537.py\u001b[0m in \u001b[0;36m<module>\u001b[0;34m\u001b[0m\n\u001b[0;32m----> 1\u001b[0;31m \u001b[0;32mdel\u001b[0m \u001b[0mxx\u001b[0m\u001b[0;34m[\u001b[0m\u001b[0;34m'_source'\u001b[0m\u001b[0;34m]\u001b[0m\u001b[0;34m[\u001b[0m\u001b[0;34m'systemProperties'\u001b[0m\u001b[0;34m]\u001b[0m\u001b[0;34m\u001b[0m\u001b[0;34m\u001b[0m\u001b[0m\n\u001b[0m\u001b[1;32m      2\u001b[0m \u001b[0;32mdel\u001b[0m \u001b[0mxx\u001b[0m\u001b[0;34m[\u001b[0m\u001b[0;34m'_source'\u001b[0m\u001b[0;34m]\u001b[0m\u001b[0;34m[\u001b[0m\u001b[0;34m'profileID'\u001b[0m\u001b[0;34m]\u001b[0m\u001b[0;34m\u001b[0m\u001b[0;34m\u001b[0m\u001b[0m\n",
      "\u001b[0;31mKeyError\u001b[0m: 'systemProperties'"
     ]
    }
   ],
   "source": [
    "del xx['_source']['systemProperties']\n",
    "del xx['_source']['profileId']"
   ]
  },
  {
   "cell_type": "code",
   "execution_count": 49,
   "id": "7b1f155a",
   "metadata": {},
   "outputs": [
    {
     "data": {
      "text/plain": [
       "{'_index': 'context-event-date-2022-11',\n",
       " '_type': '_doc',\n",
       " '_id': 'OnCustomer.updateProfile.637d6a785dd08f002aebd84f',\n",
       " '_score': 1,\n",
       " '_source': {'itemId': 'OnCustomer.updateProfile.637d6a785dd08f002aebd84f',\n",
       "  'itemType': 'event',\n",
       "  'scope': 'JS-2LAlZDzhvRziXRnHLoB2FNP4jMu',\n",
       "  'eventType': 'updateProfile',\n",
       "  'sessionId': '569331b2-92ab-4f79-b80e-55167b39ecee',\n",
       "  'profileId': '2LRPU7La3RL0iWTF63TpZLPr2R6',\n",
       "  'timeStamp': '2022-11-23T01:05:04Z',\n",
       "  'sendAt': '2023-02-08T04:35:34Z',\n",
       "  'properties': {},\n",
       "  'source': {'itemId': '_',\n",
       "   'itemType': '_',\n",
       "   'scope': 'JS-2LAlZDzhvRziXRnHLoB2FNP4jMu',\n",
       "   'properties': {},\n",
       "   'createdAt': None,\n",
       "   'updatedAt': None,\n",
       "   'collectionIds': None},\n",
       "  'target': {'itemId': '_',\n",
       "   'itemType': 'analyticsUser',\n",
       "   'scope': 'JS-2LAlZDzhvRziXRnHLoB2FNP4jMu',\n",
       "   'properties': {'crm_user_id': '637d6a785dd08f002aebd84f',\n",
       "    'first_name': 'Nguyen',\n",
       "    'last_name': 'Khanh',\n",
       "    'full_name': 'Khanh Nguyen',\n",
       "    'total_sessions': 0,\n",
       "    'last_seen': '2022-11-23T01:05:03Z',\n",
       "    'total_conversation_number': 0,\n",
       "    'ip_address': '118.68.218.45'},\n",
       "   'createdAt': None,\n",
       "   'updatedAt': None,\n",
       "   'collectionIds': None},\n",
       "  'targets': None}}"
      ]
     },
     "execution_count": 49,
     "metadata": {},
     "output_type": "execute_result"
    }
   ],
   "source": []
  },
  {
   "cell_type": "code",
   "execution_count": 65,
   "id": "db6c7faa",
   "metadata": {},
   "outputs": [],
   "source": [
    "eventss[1]['_source']['persistence'] = True"
   ]
  },
  {
   "cell_type": "code",
   "execution_count": 66,
   "id": "084d983b",
   "metadata": {},
   "outputs": [
    {
     "data": {
      "text/plain": [
       "{'_index': 'context-event-date-2022-11',\n",
       " '_type': '_doc',\n",
       " '_id': 'OnCustomer.updateProfile.637d6a785dd08f002aebd84f',\n",
       " '_score': 1,\n",
       " '_source': {'itemId': 'OnCustomer.updateProfile.637d6a785dd08f002aebd84f',\n",
       "  'itemType': 'event',\n",
       "  'scope': 'JS-2LAlZDzhvRziXRnHLoB2FNP4jMu',\n",
       "  'eventType': 'updateProfile',\n",
       "  'sessionId': '569331b2-92ab-4f79-b80e-55167b39ecee',\n",
       "  'profileId': '2LRPU7La3RL0iWTF63TpZLPr2R6',\n",
       "  'timeStamp': '2022-11-23T01:05:04Z',\n",
       "  'sendAt': '2023-02-08T04:35:34Z',\n",
       "  'properties': {},\n",
       "  'source': {'itemId': '_',\n",
       "   'itemType': '_',\n",
       "   'scope': 'JS-2LAlZDzhvRziXRnHLoB2FNP4jMu',\n",
       "   'properties': {},\n",
       "   'createdAt': None,\n",
       "   'updatedAt': None,\n",
       "   'collectionIds': None},\n",
       "  'target': {'itemId': '_',\n",
       "   'itemType': 'analyticsUser',\n",
       "   'scope': 'JS-2LAlZDzhvRziXRnHLoB2FNP4jMu',\n",
       "   'properties': {'crm_user_id': '637d6a785dd08f002aebd84f',\n",
       "    'first_name': 'Nguyen',\n",
       "    'last_name': 'Khanh',\n",
       "    'full_name': 'Khanh Nguyen',\n",
       "    'total_sessions': 0,\n",
       "    'last_seen': '2022-11-23T01:05:03Z',\n",
       "    'total_conversation_number': 0,\n",
       "    'ip_address': '118.68.218.45'},\n",
       "   'createdAt': None,\n",
       "   'updatedAt': None,\n",
       "   'collectionIds': None},\n",
       "  'targets': None,\n",
       "  'persistence': True}}"
      ]
     },
     "execution_count": 66,
     "metadata": {},
     "output_type": "execute_result"
    }
   ],
   "source": [
    "eventss[1]"
   ]
  },
  {
   "cell_type": "code",
   "execution_count": null,
   "id": "2a516635",
   "metadata": {},
   "outputs": [],
   "source": []
  }
 ],
 "metadata": {
  "kernelspec": {
   "display_name": "Python 3 (ipykernel)",
   "language": "python",
   "name": "python3"
  },
  "language_info": {
   "codemirror_mode": {
    "name": "ipython",
    "version": 3
   },
   "file_extension": ".py",
   "mimetype": "text/x-python",
   "name": "python",
   "nbconvert_exporter": "python",
   "pygments_lexer": "ipython3",
   "version": "3.10.6"
  }
 },
 "nbformat": 4,
 "nbformat_minor": 5
}
